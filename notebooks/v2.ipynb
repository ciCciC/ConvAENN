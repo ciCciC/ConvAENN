{
 "cells": [
  {
   "cell_type": "code",
   "execution_count": 1,
   "metadata": {
    "collapsed": true
   },
   "outputs": [],
   "source": [
    "import pandas as pd\n",
    "import tensorflow as tf\n",
    "import keras\n",
    "from keras import layers\n",
    "from keras.datasets import fashion_mnist\n",
    "import numpy as np\n",
    "from keras.callbacks import TensorBoard\n",
    "import matplotlib.pyplot as plt"
   ]
  },
  {
   "cell_type": "markdown",
   "source": [
    "Encoder"
   ],
   "metadata": {
    "collapsed": false
   }
  },
  {
   "cell_type": "code",
   "execution_count": 18,
   "outputs": [],
   "source": [
    "encoded_input = keras.Input(shape=(28, 28, 1), name=\"image_input\")\n",
    "\n",
    "x = layers.Conv2D(filters=16, kernel_size=(3, 3), activation='relu')(encoded_input)\n",
    "x = layers.Conv2D(filters=32, kernel_size=(3, 3), activation='relu')(x)\n",
    "x = layers.MaxPooling2D(pool_size=(3, 3), padding='same')(x)\n",
    "x = layers.Conv2D(filters=32, kernel_size=(3, 3), activation='relu')(x)\n",
    "x = layers.Conv2D(filters=16, kernel_size=(3, 3), activation='relu')(x)\n",
    "output_encoder = layers.GlobalMaxPooling2D()(x)\n",
    "\n",
    "model_encoder = keras.Model(encoded_input, output_encoder, name='model_encoder')"
   ],
   "metadata": {
    "collapsed": false
   }
  },
  {
   "cell_type": "code",
   "execution_count": 19,
   "outputs": [],
   "source": [
    "# del model_encoder"
   ],
   "metadata": {
    "collapsed": false
   }
  },
  {
   "cell_type": "code",
   "execution_count": 20,
   "outputs": [
    {
     "name": "stdout",
     "output_type": "stream",
     "text": [
      "Model: \"model_encoder\"\n",
      "_________________________________________________________________\n",
      " Layer (type)                Output Shape              Param #   \n",
      "=================================================================\n",
      " image_input (InputLayer)    [(None, 28, 28, 1)]       0         \n",
      "                                                                 \n",
      " conv2d_4 (Conv2D)           (None, 26, 26, 16)        160       \n",
      "                                                                 \n",
      " conv2d_5 (Conv2D)           (None, 24, 24, 32)        4640      \n",
      "                                                                 \n",
      " max_pooling2d_1 (MaxPooling  (None, 8, 8, 32)         0         \n",
      " 2D)                                                             \n",
      "                                                                 \n",
      " conv2d_6 (Conv2D)           (None, 6, 6, 32)          9248      \n",
      "                                                                 \n",
      " conv2d_7 (Conv2D)           (None, 4, 4, 16)          4624      \n",
      "                                                                 \n",
      " global_max_pooling2d_1 (Glo  (None, 16)               0         \n",
      " balMaxPooling2D)                                                \n",
      "                                                                 \n",
      "=================================================================\n",
      "Total params: 18,672\n",
      "Trainable params: 18,672\n",
      "Non-trainable params: 0\n",
      "_________________________________________________________________\n"
     ]
    }
   ],
   "source": [
    "model_encoder.summary()"
   ],
   "metadata": {
    "collapsed": false
   }
  },
  {
   "cell_type": "markdown",
   "source": [
    "Decoder"
   ],
   "metadata": {
    "collapsed": false
   }
  },
  {
   "cell_type": "code",
   "execution_count": 21,
   "outputs": [],
   "source": [
    "# decoder_input = layers.Conv2D(8, (3, 3), activation='relu', padding='same')(output_encoder)\n",
    "# x = layers.UpSampling2D((2, 2))(decoder_input)\n",
    "#\n",
    "# x = layers.Conv2D(16, (3, 3), activation='relu', padding='same')(x)\n",
    "# x = layers.UpSampling2D((2, 2))(x)\n",
    "#\n",
    "# output_decoder = layers.Conv2D(1, (3, 3), activation='sigmoid', padding='same')(x)\n",
    "#\n",
    "# model_decoder = keras.Model(decoder_input, output_decoder, name='model_decoder')"
   ],
   "metadata": {
    "collapsed": false
   }
  },
  {
   "cell_type": "code",
   "execution_count": 22,
   "outputs": [],
   "source": [
    "decoder_input = layers.Reshape((4, 4, 1))(output_encoder)\n",
    "x = layers.Conv2DTranspose(16, (3, 3), activation='relu')(x)\n",
    "x = layers.Conv2DTranspose(32, (3, 3), activation='relu')(x)\n",
    "x = layers.UpSampling2D((3, 3))(x)\n",
    "x = layers.Conv2DTranspose(16, (3, 3), activation='relu')(x)\n",
    "output_decoder = layers.Conv2DTranspose(1, (3, 3), activation='relu')(x)"
   ],
   "metadata": {
    "collapsed": false
   }
  },
  {
   "cell_type": "code",
   "execution_count": 23,
   "outputs": [],
   "source": [
    "# model_decoder.summary()"
   ],
   "metadata": {
    "collapsed": false
   }
  },
  {
   "cell_type": "markdown",
   "source": [
    "CNN AE"
   ],
   "metadata": {
    "collapsed": false
   }
  },
  {
   "cell_type": "code",
   "execution_count": 24,
   "outputs": [],
   "source": [
    "autoencoder = keras.Model(encoded_input, output_decoder, name='model_cnn_autoencoder')"
   ],
   "metadata": {
    "collapsed": false
   }
  },
  {
   "cell_type": "code",
   "execution_count": 25,
   "outputs": [
    {
     "name": "stdout",
     "output_type": "stream",
     "text": [
      "Model: \"model_cnn_autoencoder\"\n",
      "_________________________________________________________________\n",
      " Layer (type)                Output Shape              Param #   \n",
      "=================================================================\n",
      " image_input (InputLayer)    [(None, 28, 28, 1)]       0         \n",
      "                                                                 \n",
      " conv2d_4 (Conv2D)           (None, 26, 26, 16)        160       \n",
      "                                                                 \n",
      " conv2d_5 (Conv2D)           (None, 24, 24, 32)        4640      \n",
      "                                                                 \n",
      " max_pooling2d_1 (MaxPooling  (None, 8, 8, 32)         0         \n",
      " 2D)                                                             \n",
      "                                                                 \n",
      " conv2d_6 (Conv2D)           (None, 6, 6, 32)          9248      \n",
      "                                                                 \n",
      " conv2d_7 (Conv2D)           (None, 4, 4, 16)          4624      \n",
      "                                                                 \n",
      " conv2d_transpose_4 (Conv2DT  (None, 6, 6, 16)         2320      \n",
      " ranspose)                                                       \n",
      "                                                                 \n",
      " conv2d_transpose_5 (Conv2DT  (None, 8, 8, 32)         4640      \n",
      " ranspose)                                                       \n",
      "                                                                 \n",
      " up_sampling2d_1 (UpSampling  (None, 24, 24, 32)       0         \n",
      " 2D)                                                             \n",
      "                                                                 \n",
      " conv2d_transpose_6 (Conv2DT  (None, 26, 26, 16)       4624      \n",
      " ranspose)                                                       \n",
      "                                                                 \n",
      " conv2d_transpose_7 (Conv2DT  (None, 28, 28, 1)        145       \n",
      " ranspose)                                                       \n",
      "                                                                 \n",
      "=================================================================\n",
      "Total params: 30,401\n",
      "Trainable params: 30,401\n",
      "Non-trainable params: 0\n",
      "_________________________________________________________________\n"
     ]
    }
   ],
   "source": [
    "autoencoder.summary()"
   ],
   "metadata": {
    "collapsed": false
   }
  },
  {
   "cell_type": "code",
   "execution_count": 26,
   "outputs": [],
   "source": [
    "optimizer_adam = tf.keras.optimizers.Adam(learning_rate=0.001, decay=1e-6)\n",
    "autoencoder.compile(optimizer=optimizer_adam, loss='mse')"
   ],
   "metadata": {
    "collapsed": false
   }
  },
  {
   "cell_type": "code",
   "execution_count": 27,
   "outputs": [],
   "source": [
    "(x_train, _), (x_test, _) = fashion_mnist.load_data()"
   ],
   "metadata": {
    "collapsed": false
   }
  },
  {
   "cell_type": "code",
   "execution_count": 28,
   "outputs": [],
   "source": [
    "x_train = x_train.astype('float32') / 255.\n",
    "x_test = x_test.astype('float32') / 255."
   ],
   "metadata": {
    "collapsed": false
   }
  },
  {
   "cell_type": "code",
   "execution_count": 29,
   "outputs": [],
   "source": [
    "# epochs = 15\n",
    "#\n",
    "# for epoch in range(epochs):\n",
    "#     history = autoencoder.fit(x_train, x_train, epochs=1, batch_size=128, validation_split=0.1, callbacks=[TensorBoard(log_dir='../data/autoencoder')])\n",
    "#     autoencoder.save(f\"../models/modelCNNAutoEncoder-{epoch+1}.model\")"
   ],
   "metadata": {
    "collapsed": false
   }
  },
  {
   "cell_type": "markdown",
   "source": [
    "## epochs=100"
   ],
   "metadata": {
    "collapsed": false
   }
  },
  {
   "cell_type": "code",
   "execution_count": 14,
   "outputs": [
    {
     "name": "stdout",
     "output_type": "stream",
     "text": [
      "Epoch 1/100\n"
     ]
    },
    {
     "name": "stderr",
     "output_type": "stream",
     "text": [
      "2022-10-26 11:06:57.536397: W tensorflow/core/platform/profile_utils/cpu_utils.cc:128] Failed to get CPU frequency: 0 Hz\n",
      "2022-10-26 11:06:57.777440: I tensorflow/core/grappler/optimizers/custom_graph_optimizer_registry.cc:114] Plugin optimizer for device_type GPU is enabled.\n"
     ]
    },
    {
     "name": "stdout",
     "output_type": "stream",
     "text": [
      "469/469 [==============================] - ETA: 0s - loss: 0.0281"
     ]
    },
    {
     "name": "stderr",
     "output_type": "stream",
     "text": [
      "2022-10-26 11:07:09.319972: I tensorflow/core/grappler/optimizers/custom_graph_optimizer_registry.cc:114] Plugin optimizer for device_type GPU is enabled.\n"
     ]
    },
    {
     "name": "stdout",
     "output_type": "stream",
     "text": [
      "469/469 [==============================] - 12s 26ms/step - loss: 0.0281 - val_loss: 0.0147\n",
      "Epoch 2/100\n",
      "469/469 [==============================] - 12s 25ms/step - loss: 0.0129 - val_loss: 0.0117\n",
      "Epoch 3/100\n",
      "469/469 [==============================] - 12s 25ms/step - loss: 0.0110 - val_loss: 0.0105\n",
      "Epoch 4/100\n",
      "469/469 [==============================] - 12s 25ms/step - loss: 0.0100 - val_loss: 0.0096\n",
      "Epoch 5/100\n",
      "469/469 [==============================] - 11s 24ms/step - loss: 0.0094 - val_loss: 0.0093\n",
      "Epoch 6/100\n",
      "469/469 [==============================] - 11s 24ms/step - loss: 0.0089 - val_loss: 0.0090\n",
      "Epoch 7/100\n",
      "469/469 [==============================] - 11s 24ms/step - loss: 0.0086 - val_loss: 0.0085\n",
      "Epoch 8/100\n",
      "469/469 [==============================] - 11s 24ms/step - loss: 0.0083 - val_loss: 0.0083\n",
      "Epoch 9/100\n",
      "469/469 [==============================] - 11s 24ms/step - loss: 0.0080 - val_loss: 0.0082\n",
      "Epoch 10/100\n",
      "469/469 [==============================] - 11s 24ms/step - loss: 0.0079 - val_loss: 0.0077\n",
      "Epoch 11/100\n",
      "469/469 [==============================] - 12s 25ms/step - loss: 0.0077 - val_loss: 0.0076\n",
      "Epoch 12/100\n",
      "469/469 [==============================] - 11s 24ms/step - loss: 0.0075 - val_loss: 0.0075\n",
      "Epoch 13/100\n",
      "469/469 [==============================] - 12s 25ms/step - loss: 0.0074 - val_loss: 0.0074\n",
      "Epoch 14/100\n",
      "469/469 [==============================] - 11s 24ms/step - loss: 0.0073 - val_loss: 0.0075\n",
      "Epoch 15/100\n",
      "469/469 [==============================] - 12s 25ms/step - loss: 0.0072 - val_loss: 0.0071\n",
      "Epoch 16/100\n",
      "469/469 [==============================] - 12s 25ms/step - loss: 0.0071 - val_loss: 0.0070\n",
      "Epoch 17/100\n",
      "469/469 [==============================] - 11s 24ms/step - loss: 0.0069 - val_loss: 0.0069\n",
      "Epoch 18/100\n",
      "469/469 [==============================] - 11s 24ms/step - loss: 0.0069 - val_loss: 0.0069\n",
      "Epoch 19/100\n",
      "469/469 [==============================] - 11s 24ms/step - loss: 0.0068 - val_loss: 0.0071\n"
     ]
    }
   ],
   "source": [
    "# terminal command: tensorboard --logdir=./data/autoencoder\n",
    "\n",
    "early_stopping = tf.keras.callbacks.EarlyStopping(monitor='val_loss',\n",
    "                                                    patience=2,\n",
    "                                                    mode='min')\n",
    "\n",
    "tensor_board = TensorBoard(log_dir='../data/autoencoder')\n",
    "\n",
    "history = autoencoder.fit(x_train, x_train,\n",
    "                epochs=100,\n",
    "                batch_size=128,\n",
    "                shuffle=True,\n",
    "                validation_data=(x_test, x_test),\n",
    "                callbacks=[tensor_board, early_stopping])"
   ],
   "metadata": {
    "collapsed": false
   }
  },
  {
   "cell_type": "code",
   "execution_count": 15,
   "outputs": [
    {
     "data": {
      "text/plain": "<Figure size 640x480 with 1 Axes>",
      "image/png": "[encoded data removed]"
     },
     "metadata": {},
     "output_type": "display_data"
    }
   ],
   "source": [
    "plt.plot(history.history[\"loss\"], label=\"Training Loss\")\n",
    "plt.plot(history.history[\"val_loss\"], label=\"Validation Loss\")\n",
    "plt.legend();"
   ],
   "metadata": {
    "collapsed": false
   }
  },
  {
   "cell_type": "code",
   "execution_count": 42,
   "outputs": [
    {
     "name": "stderr",
     "output_type": "stream",
     "text": [
      "WARNING:absl:Found untraced functions such as _jit_compiled_convolution_op, _jit_compiled_convolution_op, _jit_compiled_convolution_op, _jit_compiled_convolution_op, _jit_compiled_convolution_op while saving (showing 5 of 5). These functions will not be directly callable after loading.\n"
     ]
    },
    {
     "name": "stdout",
     "output_type": "stream",
     "text": [
      "INFO:tensorflow:Assets written to: ../models/modelCNNAutoEncoder-100/assets\n"
     ]
    },
    {
     "name": "stderr",
     "output_type": "stream",
     "text": [
      "INFO:tensorflow:Assets written to: ../models/modelCNNAutoEncoder-100/assets\n"
     ]
    }
   ],
   "source": [
    "autoencoder.save(f\"./models/modelCNNAutoEncoder-{100}\")"
   ],
   "metadata": {
    "collapsed": false
   }
  },
  {
   "cell_type": "markdown",
   "source": [
    "## epochs=600\n",
    "\n",
    "```\n",
    "tensorboard --logdir=./data/autoencoder\n",
    "```"
   ],
   "metadata": {
    "collapsed": false
   }
  },
  {
   "cell_type": "code",
   "execution_count": 17,
   "outputs": [],
   "source": [
    "del autoencoder"
   ],
   "metadata": {
    "collapsed": false
   }
  },
  {
   "cell_type": "code",
   "execution_count": 30,
   "outputs": [
    {
     "name": "stdout",
     "output_type": "stream",
     "text": [
      "Epoch 1/600\n"
     ]
    },
    {
     "name": "stderr",
     "output_type": "stream",
     "text": [
      "2022-10-26 11:14:20.087644: I tensorflow/core/grappler/optimizers/custom_graph_optimizer_registry.cc:114] Plugin optimizer for device_type GPU is enabled.\n"
     ]
    },
    {
     "name": "stdout",
     "output_type": "stream",
     "text": [
      "469/469 [==============================] - ETA: 0s - loss: 0.0286"
     ]
    },
    {
     "name": "stderr",
     "output_type": "stream",
     "text": [
      "2022-10-26 11:14:31.426798: I tensorflow/core/grappler/optimizers/custom_graph_optimizer_registry.cc:114] Plugin optimizer for device_type GPU is enabled.\n"
     ]
    },
    {
     "name": "stdout",
     "output_type": "stream",
     "text": [
      "469/469 [==============================] - 12s 26ms/step - loss: 0.0286 - val_loss: 0.0153\n",
      "Epoch 2/600\n",
      "469/469 [==============================] - 12s 25ms/step - loss: 0.0133 - val_loss: 0.0121\n",
      "Epoch 3/600\n",
      "469/469 [==============================] - 11s 24ms/step - loss: 0.0113 - val_loss: 0.0108\n",
      "Epoch 4/600\n",
      "469/469 [==============================] - 12s 25ms/step - loss: 0.0102 - val_loss: 0.0102\n",
      "Epoch 5/600\n",
      "469/469 [==============================] - 11s 24ms/step - loss: 0.0096 - val_loss: 0.0094\n",
      "Epoch 6/600\n",
      "469/469 [==============================] - 11s 24ms/step - loss: 0.0091 - val_loss: 0.0088\n",
      "Epoch 7/600\n",
      "469/469 [==============================] - 11s 24ms/step - loss: 0.0087 - val_loss: 0.0087\n",
      "Epoch 8/600\n",
      "469/469 [==============================] - 11s 24ms/step - loss: 0.0084 - val_loss: 0.0083\n",
      "Epoch 9/600\n",
      "469/469 [==============================] - 11s 24ms/step - loss: 0.0081 - val_loss: 0.0080\n",
      "Epoch 10/600\n",
      "469/469 [==============================] - 11s 24ms/step - loss: 0.0079 - val_loss: 0.0078\n",
      "Epoch 11/600\n",
      "469/469 [==============================] - 11s 24ms/step - loss: 0.0077 - val_loss: 0.0077\n",
      "Epoch 12/600\n",
      "469/469 [==============================] - 12s 25ms/step - loss: 0.0076 - val_loss: 0.0075\n",
      "Epoch 13/600\n",
      "469/469 [==============================] - 12s 25ms/step - loss: 0.0075 - val_loss: 0.0073\n",
      "Epoch 14/600\n",
      "469/469 [==============================] - 12s 25ms/step - loss: 0.0073 - val_loss: 0.0072\n",
      "Epoch 15/600\n",
      "469/469 [==============================] - 12s 25ms/step - loss: 0.0072 - val_loss: 0.0079\n",
      "Epoch 16/600\n",
      "469/469 [==============================] - 12s 25ms/step - loss: 0.0071 - val_loss: 0.0070\n",
      "Epoch 17/600\n",
      "469/469 [==============================] - 12s 25ms/step - loss: 0.0070 - val_loss: 0.0071\n",
      "Epoch 18/600\n",
      "469/469 [==============================] - 11s 24ms/step - loss: 0.0069 - val_loss: 0.0068\n",
      "Epoch 19/600\n",
      "469/469 [==============================] - 12s 25ms/step - loss: 0.0068 - val_loss: 0.0068\n",
      "Epoch 20/600\n",
      "469/469 [==============================] - 12s 25ms/step - loss: 0.0068 - val_loss: 0.0069\n",
      "Epoch 21/600\n",
      "469/469 [==============================] - 11s 24ms/step - loss: 0.0067 - val_loss: 0.0068\n",
      "Epoch 22/600\n",
      "469/469 [==============================] - 11s 24ms/step - loss: 0.0066 - val_loss: 0.0066\n",
      "Epoch 23/600\n",
      "469/469 [==============================] - 11s 24ms/step - loss: 0.0066 - val_loss: 0.0066\n",
      "Epoch 24/600\n",
      "469/469 [==============================] - 11s 24ms/step - loss: 0.0065 - val_loss: 0.0066\n",
      "Epoch 25/600\n",
      "469/469 [==============================] - 11s 24ms/step - loss: 0.0065 - val_loss: 0.0064\n",
      "Epoch 26/600\n",
      "469/469 [==============================] - 12s 25ms/step - loss: 0.0064 - val_loss: 0.0065\n",
      "Epoch 27/600\n",
      "469/469 [==============================] - 11s 24ms/step - loss: 0.0064 - val_loss: 0.0064\n",
      "Epoch 28/600\n",
      "469/469 [==============================] - 12s 25ms/step - loss: 0.0063 - val_loss: 0.0065\n",
      "Epoch 29/600\n",
      "469/469 [==============================] - 11s 24ms/step - loss: 0.0063 - val_loss: 0.0063\n",
      "Epoch 30/600\n",
      "469/469 [==============================] - 11s 24ms/step - loss: 0.0062 - val_loss: 0.0062\n",
      "Epoch 31/600\n",
      "469/469 [==============================] - 11s 24ms/step - loss: 0.0062 - val_loss: 0.0061\n",
      "Epoch 32/600\n",
      "469/469 [==============================] - 11s 24ms/step - loss: 0.0062 - val_loss: 0.0062\n",
      "Epoch 33/600\n",
      "469/469 [==============================] - 11s 24ms/step - loss: 0.0061 - val_loss: 0.0061\n",
      "Epoch 34/600\n",
      "469/469 [==============================] - 11s 24ms/step - loss: 0.0061 - val_loss: 0.0061\n",
      "Epoch 35/600\n",
      "469/469 [==============================] - 11s 24ms/step - loss: 0.0061 - val_loss: 0.0060\n",
      "Epoch 36/600\n",
      "469/469 [==============================] - 12s 25ms/step - loss: 0.0060 - val_loss: 0.0072\n",
      "Epoch 37/600\n",
      "469/469 [==============================] - 11s 24ms/step - loss: 0.0060 - val_loss: 0.0060\n",
      "Epoch 38/600\n",
      "469/469 [==============================] - 12s 25ms/step - loss: 0.0060 - val_loss: 0.0059\n",
      "Epoch 39/600\n",
      "469/469 [==============================] - 12s 25ms/step - loss: 0.0059 - val_loss: 0.0060\n",
      "Epoch 40/600\n",
      "469/469 [==============================] - 12s 25ms/step - loss: 0.0059 - val_loss: 0.0059\n",
      "Epoch 41/600\n",
      "469/469 [==============================] - 11s 24ms/step - loss: 0.0059 - val_loss: 0.0059\n",
      "Epoch 42/600\n",
      "469/469 [==============================] - 12s 25ms/step - loss: 0.0059 - val_loss: 0.0058\n",
      "Epoch 43/600\n",
      "469/469 [==============================] - 11s 24ms/step - loss: 0.0058 - val_loss: 0.0058\n",
      "Epoch 44/600\n",
      "469/469 [==============================] - 11s 24ms/step - loss: 0.0058 - val_loss: 0.0058\n",
      "Epoch 45/600\n",
      "469/469 [==============================] - 11s 24ms/step - loss: 0.0058 - val_loss: 0.0058\n",
      "Epoch 46/600\n",
      "469/469 [==============================] - 11s 24ms/step - loss: 0.0058 - val_loss: 0.0058\n",
      "Epoch 47/600\n",
      "469/469 [==============================] - 11s 24ms/step - loss: 0.0057 - val_loss: 0.0058\n"
     ]
    }
   ],
   "source": [
    "import datetime\n",
    "\n",
    "log_dir = \"../data/autoencoder/\" + datetime.datetime.now().strftime(\"%Y%m%d-%H%M%S\")\n",
    "tensorboard_callback = tf.keras.callbacks.TensorBoard(log_dir=log_dir, histogram_freq=1)\n",
    "\n",
    "early_stopping = tf.keras.callbacks.EarlyStopping(monitor='val_loss',\n",
    "                                                    patience=2,\n",
    "                                                    mode='min')\n",
    "\n",
    "history = autoencoder.fit(x_train, x_train,\n",
    "                epochs=600,\n",
    "                batch_size=128,\n",
    "                shuffle=True,\n",
    "                validation_data=(x_test, x_test),\n",
    "                callbacks=[tensorboard_callback, early_stopping])"
   ],
   "metadata": {
    "collapsed": false
   }
  },
  {
   "cell_type": "code",
   "execution_count": 31,
   "outputs": [
    {
     "data": {
      "text/plain": "<Figure size 640x480 with 1 Axes>",
      "image/png": "[encoded data removed]"
     },
     "metadata": {},
     "output_type": "display_data"
    }
   ],
   "source": [
    "pd.DataFrame({\n",
    "    'train_loss': history.history[\"loss\"],\n",
    "    'val_loss': history.history[\"val_loss\"]\n",
    "}).plot();"
   ],
   "metadata": {
    "collapsed": false
   }
  },
  {
   "cell_type": "code",
   "execution_count": 101,
   "outputs": [
    {
     "name": "stderr",
     "output_type": "stream",
     "text": [
      "WARNING:absl:Found untraced functions such as _jit_compiled_convolution_op, _jit_compiled_convolution_op, _jit_compiled_convolution_op, _jit_compiled_convolution_op, _jit_compiled_convolution_op while saving (showing 5 of 5). These functions will not be directly callable after loading.\n"
     ]
    },
    {
     "name": "stdout",
     "output_type": "stream",
     "text": [
      "INFO:tensorflow:Assets written to: ../models/modelCNNAutoEncoder-600.model/assets\n"
     ]
    },
    {
     "name": "stderr",
     "output_type": "stream",
     "text": [
      "INFO:tensorflow:Assets written to: ../models/modelCNNAutoEncoder-600.model/assets\n"
     ]
    }
   ],
   "source": [
    "autoencoder.save(f\"./models/modelCNNAutoEncoder-{600}.model\")"
   ],
   "metadata": {
    "collapsed": false
   }
  },
  {
   "cell_type": "code",
   "execution_count": 36,
   "outputs": [
    {
     "name": "stdout",
     "output_type": "stream",
     "text": [
      " 23/313 [=>............................] - ETA: 1s"
     ]
    },
    {
     "name": "stderr",
     "output_type": "stream",
     "text": [
      "2022-10-26 11:27:16.013537: I tensorflow/core/grappler/optimizers/custom_graph_optimizer_registry.cc:114] Plugin optimizer for device_type GPU is enabled.\n"
     ]
    },
    {
     "name": "stdout",
     "output_type": "stream",
     "text": [
      "313/313 [==============================] - 2s 5ms/step\n"
     ]
    },
    {
     "data": {
      "text/plain": "<Figure size 2000x400 with 20 Axes>",
      "image/png": "[encoded data removed]"
     },
     "metadata": {},
     "output_type": "display_data"
    }
   ],
   "source": [
    "decoded_imgs = autoencoder.predict(x_test)\n",
    "\n",
    "n = 10\n",
    "plt.figure(figsize=(20, 4))\n",
    "for i in range(1, n + 1):\n",
    "    # Display original\n",
    "    ax = plt.subplot(2, n, i)\n",
    "    plt.imshow(x_test[i].reshape(28, 28, 1))\n",
    "    plt.gray()\n",
    "    ax.get_xaxis().set_visible(False)\n",
    "    ax.get_yaxis().set_visible(False)\n",
    "\n",
    "    # Display reconstruction\n",
    "    ax = plt.subplot(2, n, i + n)\n",
    "    plt.imshow(decoded_imgs[i].reshape(28, 28, 1))\n",
    "    plt.gray()\n",
    "    ax.get_xaxis().set_visible(False)\n",
    "    ax.get_yaxis().set_visible(False)\n",
    "plt.show()"
   ],
   "metadata": {
    "collapsed": false
   }
  },
  {
   "cell_type": "code",
   "execution_count": null,
   "outputs": [],
   "source": [],
   "metadata": {
    "collapsed": false
   }
  }
 ],
 "metadata": {
  "kernelspec": {
   "display_name": "Python 3",
   "language": "python",
   "name": "python3"
  },
  "language_info": {
   "codemirror_mode": {
    "name": "ipython",
    "version": 2
   },
   "file_extension": ".py",
   "mimetype": "text/x-python",
   "name": "python",
   "nbconvert_exporter": "python",
   "pygments_lexer": "ipython2",
   "version": "2.7.6"
  }
 },
 "nbformat": 4,
 "nbformat_minor": 0
}
