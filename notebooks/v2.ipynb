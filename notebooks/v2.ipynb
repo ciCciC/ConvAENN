{
 "cells": [
  {
   "cell_type": "code",
   "execution_count": 33,
   "metadata": {
    "collapsed": true
   },
   "outputs": [],
   "source": [
    "import pandas as pd\n",
    "import tensorflow as tf\n",
    "import keras\n",
    "from keras import layers\n",
    "from keras.datasets import fashion_mnist\n",
    "import numpy as np\n",
    "from keras.callbacks import TensorBoard\n",
    "import matplotlib.pyplot as plt"
   ]
  },
  {
   "cell_type": "markdown",
   "source": [
    "Encoder"
   ],
   "metadata": {
    "collapsed": false
   }
  },
  {
   "cell_type": "code",
   "execution_count": 26,
   "outputs": [],
   "source": [
    "encoded_input = keras.Input(shape=(28, 28, 1), name=\"image_input\")\n",
    "\n",
    "x = layers.Conv2D(filters=16, kernel_size=(3, 3), activation='relu', padding='same')(encoded_input)\n",
    "x = layers.MaxPooling2D(pool_size=(2, 2), padding='same')(x)\n",
    "\n",
    "x = layers.Conv2D(filters=8, kernel_size=(3, 3), activation='relu', padding='same')(x)\n",
    "output_encoder = layers.MaxPooling2D(pool_size=(2, 2), padding='same')(x)\n",
    "\n",
    "model_encoder = keras.Model(encoded_input, output_encoder, name='model_encoder')"
   ],
   "metadata": {
    "collapsed": false
   }
  },
  {
   "cell_type": "code",
   "execution_count": 27,
   "outputs": [
    {
     "name": "stdout",
     "output_type": "stream",
     "text": [
      "Model: \"model_encoder\"\n",
      "_________________________________________________________________\n",
      " Layer (type)                Output Shape              Param #   \n",
      "=================================================================\n",
      " image_input (InputLayer)    [(None, 28, 28, 1)]       0         \n",
      "                                                                 \n",
      " conv2d_35 (Conv2D)          (None, 28, 28, 16)        160       \n",
      "                                                                 \n",
      " max_pooling2d_3 (MaxPooling  (None, 14, 14, 16)       0         \n",
      " 2D)                                                             \n",
      "                                                                 \n",
      " conv2d_36 (Conv2D)          (None, 14, 14, 8)         1160      \n",
      "                                                                 \n",
      " max_pooling2d_4 (MaxPooling  (None, 7, 7, 8)          0         \n",
      " 2D)                                                             \n",
      "                                                                 \n",
      "=================================================================\n",
      "Total params: 1,320\n",
      "Trainable params: 1,320\n",
      "Non-trainable params: 0\n",
      "_________________________________________________________________\n"
     ]
    }
   ],
   "source": [
    "model_encoder.summary()"
   ],
   "metadata": {
    "collapsed": false
   }
  },
  {
   "cell_type": "markdown",
   "source": [
    "Decoder"
   ],
   "metadata": {
    "collapsed": false
   }
  },
  {
   "cell_type": "code",
   "execution_count": 28,
   "outputs": [],
   "source": [
    "decoder_input = layers.Conv2D(8, (3, 3), activation='relu', padding='same')(output_encoder)\n",
    "x = layers.UpSampling2D((2, 2))(decoder_input)\n",
    "\n",
    "x = layers.Conv2D(16, (3, 3), activation='relu', padding='same')(x)\n",
    "x = layers.UpSampling2D((2, 2))(x)\n",
    "\n",
    "output_decoder = layers.Conv2D(1, (3, 3), activation='sigmoid', padding='same')(x)\n",
    "\n",
    "model_decoder = keras.Model(decoder_input, output_decoder, name='model_decoder')"
   ],
   "metadata": {
    "collapsed": false
   }
  },
  {
   "cell_type": "code",
   "execution_count": 29,
   "outputs": [
    {
     "name": "stdout",
     "output_type": "stream",
     "text": [
      "Model: \"model_decoder\"\n",
      "_________________________________________________________________\n",
      " Layer (type)                Output Shape              Param #   \n",
      "=================================================================\n",
      " input_3 (InputLayer)        [(None, 7, 7, 8)]         0         \n",
      "                                                                 \n",
      " up_sampling2d_23 (UpSamplin  (None, 14, 14, 8)        0         \n",
      " g2D)                                                            \n",
      "                                                                 \n",
      " conv2d_38 (Conv2D)          (None, 14, 14, 16)        1168      \n",
      "                                                                 \n",
      " up_sampling2d_24 (UpSamplin  (None, 28, 28, 16)       0         \n",
      " g2D)                                                            \n",
      "                                                                 \n",
      " conv2d_39 (Conv2D)          (None, 28, 28, 1)         145       \n",
      "                                                                 \n",
      "=================================================================\n",
      "Total params: 1,313\n",
      "Trainable params: 1,313\n",
      "Non-trainable params: 0\n",
      "_________________________________________________________________\n"
     ]
    }
   ],
   "source": [
    "model_decoder.summary()"
   ],
   "metadata": {
    "collapsed": false
   }
  },
  {
   "cell_type": "markdown",
   "source": [
    "CNN AE"
   ],
   "metadata": {
    "collapsed": false
   }
  },
  {
   "cell_type": "code",
   "execution_count": 90,
   "outputs": [],
   "source": [
    "autoencoder = keras.Model(encoded_input, output_decoder, name='model_cnn_autoencoder')"
   ],
   "metadata": {
    "collapsed": false
   }
  },
  {
   "cell_type": "code",
   "execution_count": 91,
   "outputs": [
    {
     "name": "stdout",
     "output_type": "stream",
     "text": [
      "Model: \"model_cnn_autoencoder\"\n",
      "_________________________________________________________________\n",
      " Layer (type)                Output Shape              Param #   \n",
      "=================================================================\n",
      " image_input (InputLayer)    [(None, 28, 28, 1)]       0         \n",
      "                                                                 \n",
      " conv2d_35 (Conv2D)          (None, 28, 28, 16)        160       \n",
      "                                                                 \n",
      " max_pooling2d_3 (MaxPooling  (None, 14, 14, 16)       0         \n",
      " 2D)                                                             \n",
      "                                                                 \n",
      " conv2d_36 (Conv2D)          (None, 14, 14, 8)         1160      \n",
      "                                                                 \n",
      " max_pooling2d_4 (MaxPooling  (None, 7, 7, 8)          0         \n",
      " 2D)                                                             \n",
      "                                                                 \n",
      " conv2d_37 (Conv2D)          (None, 7, 7, 8)           584       \n",
      "                                                                 \n",
      " up_sampling2d_23 (UpSamplin  (None, 14, 14, 8)        0         \n",
      " g2D)                                                            \n",
      "                                                                 \n",
      " conv2d_38 (Conv2D)          (None, 14, 14, 16)        1168      \n",
      "                                                                 \n",
      " up_sampling2d_24 (UpSamplin  (None, 28, 28, 16)       0         \n",
      " g2D)                                                            \n",
      "                                                                 \n",
      " conv2d_39 (Conv2D)          (None, 28, 28, 1)         145       \n",
      "                                                                 \n",
      "=================================================================\n",
      "Total params: 3,217\n",
      "Trainable params: 3,217\n",
      "Non-trainable params: 0\n",
      "_________________________________________________________________\n"
     ]
    }
   ],
   "source": [
    "autoencoder.summary()"
   ],
   "metadata": {
    "collapsed": false
   }
  },
  {
   "cell_type": "code",
   "execution_count": 92,
   "outputs": [],
   "source": [
    "optimizer_adam = tf.keras.optimizers.Adam(learning_rate=0.001, decay=1e-6)\n",
    "autoencoder.compile(optimizer=optimizer_adam, loss='mse')"
   ],
   "metadata": {
    "collapsed": false
   }
  },
  {
   "cell_type": "code",
   "execution_count": 85,
   "outputs": [],
   "source": [
    "(x_train, _), (x_test, _) = fashion_mnist.load_data()"
   ],
   "metadata": {
    "collapsed": false
   }
  },
  {
   "cell_type": "code",
   "execution_count": 86,
   "outputs": [],
   "source": [
    "x_train = x_train.astype('float32') / 255.\n",
    "x_test = x_test.astype('float32') / 255."
   ],
   "metadata": {
    "collapsed": false
   }
  },
  {
   "cell_type": "code",
   "execution_count": 72,
   "outputs": [],
   "source": [
    "# epochs = 15\n",
    "#\n",
    "# for epoch in range(epochs):\n",
    "#     history = autoencoder.fit(x_train, x_train, epochs=1, batch_size=128, validation_split=0.1, callbacks=[TensorBoard(log_dir='../data/autoencoder')])\n",
    "#     autoencoder.save(f\"../models/modelCNNAutoEncoder-{epoch+1}.model\")"
   ],
   "metadata": {
    "collapsed": false
   }
  },
  {
   "cell_type": "markdown",
   "source": [
    "## epochs=100"
   ],
   "metadata": {
    "collapsed": false
   }
  },
  {
   "cell_type": "code",
   "execution_count": 39,
   "outputs": [
    {
     "name": "stdout",
     "output_type": "stream",
     "text": [
      "Epoch 1/100\n",
      "469/469 [==============================] - 10s 21ms/step - loss: 0.0091 - val_loss: 0.0090\n",
      "Epoch 2/100\n",
      "469/469 [==============================] - 9s 19ms/step - loss: 0.0089 - val_loss: 0.0089\n",
      "Epoch 3/100\n",
      "469/469 [==============================] - 9s 20ms/step - loss: 0.0088 - val_loss: 0.0087\n",
      "Epoch 4/100\n",
      "469/469 [==============================] - 9s 19ms/step - loss: 0.0086 - val_loss: 0.0086\n",
      "Epoch 5/100\n",
      "469/469 [==============================] - 9s 19ms/step - loss: 0.0085 - val_loss: 0.0085\n",
      "Epoch 6/100\n",
      "469/469 [==============================] - 9s 19ms/step - loss: 0.0083 - val_loss: 0.0083\n",
      "Epoch 7/100\n",
      "469/469 [==============================] - 9s 19ms/step - loss: 0.0081 - val_loss: 0.0081\n",
      "Epoch 8/100\n",
      "469/469 [==============================] - 9s 20ms/step - loss: 0.0080 - val_loss: 0.0079\n",
      "Epoch 9/100\n",
      "469/469 [==============================] - 9s 20ms/step - loss: 0.0079 - val_loss: 0.0078\n",
      "Epoch 10/100\n",
      "469/469 [==============================] - 9s 19ms/step - loss: 0.0077 - val_loss: 0.0077\n",
      "Epoch 11/100\n",
      "469/469 [==============================] - 9s 19ms/step - loss: 0.0076 - val_loss: 0.0076\n",
      "Epoch 12/100\n",
      "469/469 [==============================] - 9s 19ms/step - loss: 0.0075 - val_loss: 0.0076\n",
      "Epoch 13/100\n",
      "469/469 [==============================] - 9s 19ms/step - loss: 0.0075 - val_loss: 0.0074\n",
      "Epoch 14/100\n",
      "469/469 [==============================] - 9s 19ms/step - loss: 0.0074 - val_loss: 0.0074\n",
      "Epoch 15/100\n",
      "469/469 [==============================] - 10s 21ms/step - loss: 0.0073 - val_loss: 0.0073\n",
      "Epoch 16/100\n",
      "469/469 [==============================] - 10s 21ms/step - loss: 0.0073 - val_loss: 0.0073\n",
      "Epoch 17/100\n",
      "469/469 [==============================] - 9s 20ms/step - loss: 0.0072 - val_loss: 0.0072\n",
      "Epoch 18/100\n",
      "469/469 [==============================] - 9s 19ms/step - loss: 0.0071 - val_loss: 0.0071\n",
      "Epoch 19/100\n",
      "469/469 [==============================] - 10s 21ms/step - loss: 0.0071 - val_loss: 0.0071\n",
      "Epoch 20/100\n",
      "469/469 [==============================] - 10s 21ms/step - loss: 0.0070 - val_loss: 0.0070\n",
      "Epoch 21/100\n",
      "469/469 [==============================] - 10s 21ms/step - loss: 0.0070 - val_loss: 0.0070\n",
      "Epoch 22/100\n",
      "469/469 [==============================] - 10s 22ms/step - loss: 0.0069 - val_loss: 0.0070\n",
      "Epoch 23/100\n",
      "469/469 [==============================] - 10s 22ms/step - loss: 0.0069 - val_loss: 0.0069\n",
      "Epoch 24/100\n",
      "469/469 [==============================] - 9s 19ms/step - loss: 0.0068 - val_loss: 0.0070\n",
      "Epoch 25/100\n",
      "469/469 [==============================] - 9s 19ms/step - loss: 0.0068 - val_loss: 0.0068\n",
      "Epoch 26/100\n",
      "469/469 [==============================] - 9s 19ms/step - loss: 0.0068 - val_loss: 0.0068\n",
      "Epoch 27/100\n",
      "469/469 [==============================] - 9s 20ms/step - loss: 0.0067 - val_loss: 0.0067\n",
      "Epoch 28/100\n",
      "469/469 [==============================] - 9s 19ms/step - loss: 0.0067 - val_loss: 0.0067\n",
      "Epoch 29/100\n",
      "469/469 [==============================] - 9s 19ms/step - loss: 0.0067 - val_loss: 0.0068\n",
      "Epoch 30/100\n",
      "469/469 [==============================] - 9s 19ms/step - loss: 0.0066 - val_loss: 0.0066\n",
      "Epoch 31/100\n",
      "469/469 [==============================] - 9s 19ms/step - loss: 0.0066 - val_loss: 0.0066\n",
      "Epoch 32/100\n",
      "469/469 [==============================] - 9s 19ms/step - loss: 0.0066 - val_loss: 0.0066\n",
      "Epoch 33/100\n",
      "469/469 [==============================] - 9s 19ms/step - loss: 0.0066 - val_loss: 0.0066\n",
      "Epoch 34/100\n",
      "469/469 [==============================] - 9s 19ms/step - loss: 0.0065 - val_loss: 0.0066\n",
      "Epoch 35/100\n",
      "469/469 [==============================] - 9s 19ms/step - loss: 0.0065 - val_loss: 0.0066\n",
      "Epoch 36/100\n",
      "469/469 [==============================] - 9s 19ms/step - loss: 0.0065 - val_loss: 0.0065\n",
      "Epoch 37/100\n",
      "469/469 [==============================] - 9s 20ms/step - loss: 0.0065 - val_loss: 0.0065\n",
      "Epoch 38/100\n",
      "469/469 [==============================] - 9s 20ms/step - loss: 0.0064 - val_loss: 0.0065\n",
      "Epoch 39/100\n",
      "469/469 [==============================] - 9s 19ms/step - loss: 0.0064 - val_loss: 0.0065\n",
      "Epoch 40/100\n",
      "469/469 [==============================] - 9s 19ms/step - loss: 0.0064 - val_loss: 0.0064\n",
      "Epoch 41/100\n",
      "469/469 [==============================] - 9s 19ms/step - loss: 0.0064 - val_loss: 0.0064\n",
      "Epoch 42/100\n",
      "469/469 [==============================] - 9s 20ms/step - loss: 0.0064 - val_loss: 0.0064\n",
      "Epoch 43/100\n",
      "469/469 [==============================] - 9s 20ms/step - loss: 0.0063 - val_loss: 0.0064\n",
      "Epoch 44/100\n",
      "469/469 [==============================] - 9s 20ms/step - loss: 0.0063 - val_loss: 0.0063\n",
      "Epoch 45/100\n",
      "469/469 [==============================] - 10s 21ms/step - loss: 0.0063 - val_loss: 0.0063\n",
      "Epoch 46/100\n",
      "469/469 [==============================] - 9s 19ms/step - loss: 0.0063 - val_loss: 0.0063\n",
      "Epoch 47/100\n",
      "469/469 [==============================] - 10s 21ms/step - loss: 0.0063 - val_loss: 0.0063\n",
      "Epoch 48/100\n",
      "469/469 [==============================] - 10s 20ms/step - loss: 0.0063 - val_loss: 0.0063\n",
      "Epoch 49/100\n",
      "469/469 [==============================] - 10s 20ms/step - loss: 0.0062 - val_loss: 0.0064\n",
      "Epoch 50/100\n",
      "469/469 [==============================] - 10s 21ms/step - loss: 0.0062 - val_loss: 0.0062\n",
      "Epoch 51/100\n",
      "469/469 [==============================] - 10s 21ms/step - loss: 0.0062 - val_loss: 0.0062\n",
      "Epoch 52/100\n",
      "469/469 [==============================] - 9s 20ms/step - loss: 0.0062 - val_loss: 0.0062\n",
      "Epoch 53/100\n",
      "469/469 [==============================] - 9s 20ms/step - loss: 0.0062 - val_loss: 0.0062\n",
      "Epoch 54/100\n",
      "469/469 [==============================] - 10s 21ms/step - loss: 0.0062 - val_loss: 0.0062\n",
      "Epoch 55/100\n",
      "469/469 [==============================] - 9s 19ms/step - loss: 0.0062 - val_loss: 0.0062\n",
      "Epoch 56/100\n",
      "469/469 [==============================] - 10s 20ms/step - loss: 0.0061 - val_loss: 0.0061\n",
      "Epoch 57/100\n",
      "469/469 [==============================] - 10s 21ms/step - loss: 0.0061 - val_loss: 0.0062\n",
      "Epoch 58/100\n",
      "469/469 [==============================] - 10s 21ms/step - loss: 0.0061 - val_loss: 0.0061\n",
      "Epoch 59/100\n",
      "469/469 [==============================] - 10s 22ms/step - loss: 0.0061 - val_loss: 0.0062\n",
      "Epoch 60/100\n",
      "469/469 [==============================] - 10s 22ms/step - loss: 0.0061 - val_loss: 0.0061\n",
      "Epoch 61/100\n",
      "469/469 [==============================] - 10s 21ms/step - loss: 0.0061 - val_loss: 0.0061\n",
      "Epoch 62/100\n",
      "469/469 [==============================] - 9s 20ms/step - loss: 0.0061 - val_loss: 0.0061\n",
      "Epoch 63/100\n",
      "469/469 [==============================] - 9s 19ms/step - loss: 0.0061 - val_loss: 0.0061\n",
      "Epoch 64/100\n",
      "469/469 [==============================] - 10s 21ms/step - loss: 0.0060 - val_loss: 0.0061\n",
      "Epoch 65/100\n",
      "469/469 [==============================] - 10s 21ms/step - loss: 0.0060 - val_loss: 0.0061\n",
      "Epoch 66/100\n",
      "469/469 [==============================] - 10s 22ms/step - loss: 0.0060 - val_loss: 0.0060\n",
      "Epoch 67/100\n",
      "469/469 [==============================] - 11s 23ms/step - loss: 0.0060 - val_loss: 0.0061\n",
      "Epoch 68/100\n",
      "469/469 [==============================] - 11s 23ms/step - loss: 0.0060 - val_loss: 0.0060\n",
      "Epoch 69/100\n",
      "469/469 [==============================] - 10s 21ms/step - loss: 0.0060 - val_loss: 0.0060\n",
      "Epoch 70/100\n",
      "469/469 [==============================] - 11s 23ms/step - loss: 0.0060 - val_loss: 0.0060\n",
      "Epoch 71/100\n",
      "469/469 [==============================] - 10s 21ms/step - loss: 0.0060 - val_loss: 0.0060\n",
      "Epoch 72/100\n",
      "469/469 [==============================] - 10s 22ms/step - loss: 0.0060 - val_loss: 0.0060\n",
      "Epoch 73/100\n",
      "469/469 [==============================] - 10s 21ms/step - loss: 0.0060 - val_loss: 0.0060\n",
      "Epoch 74/100\n",
      "469/469 [==============================] - 9s 20ms/step - loss: 0.0060 - val_loss: 0.0060\n",
      "Epoch 75/100\n",
      "469/469 [==============================] - 10s 20ms/step - loss: 0.0059 - val_loss: 0.0060\n",
      "Epoch 76/100\n",
      "469/469 [==============================] - 9s 19ms/step - loss: 0.0059 - val_loss: 0.0060\n",
      "Epoch 77/100\n",
      "469/469 [==============================] - 11s 23ms/step - loss: 0.0059 - val_loss: 0.0060\n",
      "Epoch 78/100\n",
      "469/469 [==============================] - 10s 21ms/step - loss: 0.0059 - val_loss: 0.0060\n",
      "Epoch 79/100\n",
      "469/469 [==============================] - 10s 22ms/step - loss: 0.0059 - val_loss: 0.0060\n",
      "Epoch 80/100\n",
      "469/469 [==============================] - 10s 21ms/step - loss: 0.0059 - val_loss: 0.0059\n",
      "Epoch 81/100\n",
      "469/469 [==============================] - 10s 21ms/step - loss: 0.0059 - val_loss: 0.0059\n",
      "Epoch 82/100\n",
      "469/469 [==============================] - 9s 20ms/step - loss: 0.0059 - val_loss: 0.0059\n",
      "Epoch 83/100\n",
      "469/469 [==============================] - 9s 20ms/step - loss: 0.0059 - val_loss: 0.0059\n",
      "Epoch 84/100\n",
      "469/469 [==============================] - 9s 20ms/step - loss: 0.0059 - val_loss: 0.0060\n",
      "Epoch 85/100\n",
      "469/469 [==============================] - 9s 19ms/step - loss: 0.0059 - val_loss: 0.0059\n",
      "Epoch 86/100\n",
      "469/469 [==============================] - 10s 21ms/step - loss: 0.0059 - val_loss: 0.0059\n",
      "Epoch 87/100\n",
      "469/469 [==============================] - 9s 20ms/step - loss: 0.0059 - val_loss: 0.0060\n",
      "Epoch 88/100\n",
      "469/469 [==============================] - 9s 20ms/step - loss: 0.0059 - val_loss: 0.0059\n",
      "Epoch 89/100\n",
      "469/469 [==============================] - 9s 20ms/step - loss: 0.0058 - val_loss: 0.0059\n",
      "Epoch 90/100\n",
      "469/469 [==============================] - 9s 20ms/step - loss: 0.0058 - val_loss: 0.0059\n",
      "Epoch 91/100\n",
      "469/469 [==============================] - 9s 20ms/step - loss: 0.0058 - val_loss: 0.0059\n",
      "Epoch 92/100\n",
      "469/469 [==============================] - 10s 20ms/step - loss: 0.0058 - val_loss: 0.0059\n",
      "Epoch 93/100\n",
      "469/469 [==============================] - 9s 20ms/step - loss: 0.0058 - val_loss: 0.0059\n",
      "Epoch 94/100\n",
      "469/469 [==============================] - 9s 20ms/step - loss: 0.0058 - val_loss: 0.0059\n",
      "Epoch 95/100\n",
      "469/469 [==============================] - 9s 20ms/step - loss: 0.0058 - val_loss: 0.0058\n",
      "Epoch 96/100\n",
      "469/469 [==============================] - 9s 20ms/step - loss: 0.0058 - val_loss: 0.0058\n",
      "Epoch 97/100\n",
      "469/469 [==============================] - 10s 21ms/step - loss: 0.0058 - val_loss: 0.0058\n",
      "Epoch 98/100\n",
      "469/469 [==============================] - 10s 21ms/step - loss: 0.0058 - val_loss: 0.0058\n",
      "Epoch 99/100\n",
      "469/469 [==============================] - 10s 21ms/step - loss: 0.0058 - val_loss: 0.0058\n",
      "Epoch 100/100\n",
      "469/469 [==============================] - 9s 20ms/step - loss: 0.0058 - val_loss: 0.0058\n"
     ]
    }
   ],
   "source": [
    "# terminal command: tensorboard --logdir=./data/autoencoder\n",
    "\n",
    "history = autoencoder.fit(x_train, x_train,\n",
    "                epochs=100,\n",
    "                batch_size=128,\n",
    "                shuffle=True,\n",
    "                validation_data=(x_test, x_test),\n",
    "                callbacks=[TensorBoard(log_dir='../data/autoencoder')])"
   ],
   "metadata": {
    "collapsed": false
   }
  },
  {
   "cell_type": "code",
   "execution_count": 41,
   "outputs": [
    {
     "data": {
      "text/plain": "<Figure size 640x480 with 1 Axes>",
      "image/png": "[encoded data removed]"
     },
     "metadata": {},
     "output_type": "display_data"
    }
   ],
   "source": [
    "plt.plot(history.history[\"loss\"], label=\"Training Loss\")\n",
    "plt.plot(history.history[\"val_loss\"], label=\"Validation Loss\")\n",
    "plt.legend();"
   ],
   "metadata": {
    "collapsed": false
   }
  },
  {
   "cell_type": "code",
   "execution_count": 42,
   "outputs": [
    {
     "name": "stderr",
     "output_type": "stream",
     "text": [
      "WARNING:absl:Found untraced functions such as _jit_compiled_convolution_op, _jit_compiled_convolution_op, _jit_compiled_convolution_op, _jit_compiled_convolution_op, _jit_compiled_convolution_op while saving (showing 5 of 5). These functions will not be directly callable after loading.\n"
     ]
    },
    {
     "name": "stdout",
     "output_type": "stream",
     "text": [
      "INFO:tensorflow:Assets written to: ../models/modelCNNAutoEncoder-100/assets\n"
     ]
    },
    {
     "name": "stderr",
     "output_type": "stream",
     "text": [
      "INFO:tensorflow:Assets written to: ../models/modelCNNAutoEncoder-100/assets\n"
     ]
    }
   ],
   "source": [
    "autoencoder.save(f\"./models/modelCNNAutoEncoder-{100}\")"
   ],
   "metadata": {
    "collapsed": false
   }
  },
  {
   "cell_type": "markdown",
   "source": [
    "## epochs=600\n",
    "\n",
    "```\n",
    "tensorboard --logdir=./data/autoencoder\n",
    "```"
   ],
   "metadata": {
    "collapsed": false
   }
  },
  {
   "cell_type": "code",
   "execution_count": 89,
   "outputs": [],
   "source": [
    "del autoencoder"
   ],
   "metadata": {
    "collapsed": false
   }
  },
  {
   "cell_type": "code",
   "execution_count": 93,
   "outputs": [
    {
     "name": "stdout",
     "output_type": "stream",
     "text": [
      "Epoch 1/600\n"
     ]
    },
    {
     "name": "stderr",
     "output_type": "stream",
     "text": [
      "2022-10-24 14:49:05.408907: I tensorflow/core/grappler/optimizers/custom_graph_optimizer_registry.cc:114] Plugin optimizer for device_type GPU is enabled.\n"
     ]
    },
    {
     "name": "stdout",
     "output_type": "stream",
     "text": [
      "469/469 [==============================] - ETA: 0s - loss: 0.0058"
     ]
    },
    {
     "name": "stderr",
     "output_type": "stream",
     "text": [
      "2022-10-24 14:49:14.527973: I tensorflow/core/grappler/optimizers/custom_graph_optimizer_registry.cc:114] Plugin optimizer for device_type GPU is enabled.\n"
     ]
    },
    {
     "name": "stdout",
     "output_type": "stream",
     "text": [
      "469/469 [==============================] - 10s 20ms/step - loss: 0.0058 - val_loss: 0.0058\n",
      "Epoch 2/600\n",
      "469/469 [==============================] - 9s 19ms/step - loss: 0.0058 - val_loss: 0.0058\n",
      "Epoch 3/600\n",
      "469/469 [==============================] - 9s 18ms/step - loss: 0.0058 - val_loss: 0.0058\n"
     ]
    }
   ],
   "source": [
    "import datetime\n",
    "\n",
    "log_dir = \"../data/autoencoder/\" + datetime.datetime.now().strftime(\"%Y%m%d-%H%M%S\")\n",
    "tensorboard_callback = tf.keras.callbacks.TensorBoard(log_dir=log_dir, histogram_freq=1)\n",
    "\n",
    "early_stopping = tf.keras.callbacks.EarlyStopping(monitor='val_loss',\n",
    "                                                    patience=2,\n",
    "                                                    mode='min')\n",
    "\n",
    "history = autoencoder.fit(x_train, x_train,\n",
    "                epochs=600,\n",
    "                batch_size=128,\n",
    "                shuffle=True,\n",
    "                validation_data=(x_test, x_test),\n",
    "                callbacks=[tensorboard_callback, early_stopping])"
   ],
   "metadata": {
    "collapsed": false
   }
  },
  {
   "cell_type": "code",
   "execution_count": 100,
   "outputs": [
    {
     "data": {
      "text/plain": "<Figure size 640x480 with 1 Axes>",
      "image/png": "[encoded data removed]"
     },
     "metadata": {},
     "output_type": "display_data"
    }
   ],
   "source": [
    "import pandas as pd\n",
    "\n",
    "pd.DataFrame({\n",
    "    'train_loss': history.history[\"loss\"],\n",
    "    'val_loss': history.history[\"val_loss\"]\n",
    "}).plot();"
   ],
   "metadata": {
    "collapsed": false
   }
  },
  {
   "cell_type": "code",
   "execution_count": 101,
   "outputs": [
    {
     "name": "stderr",
     "output_type": "stream",
     "text": [
      "WARNING:absl:Found untraced functions such as _jit_compiled_convolution_op, _jit_compiled_convolution_op, _jit_compiled_convolution_op, _jit_compiled_convolution_op, _jit_compiled_convolution_op while saving (showing 5 of 5). These functions will not be directly callable after loading.\n"
     ]
    },
    {
     "name": "stdout",
     "output_type": "stream",
     "text": [
      "INFO:tensorflow:Assets written to: ../models/modelCNNAutoEncoder-600.model/assets\n"
     ]
    },
    {
     "name": "stderr",
     "output_type": "stream",
     "text": [
      "INFO:tensorflow:Assets written to: ../models/modelCNNAutoEncoder-600.model/assets\n"
     ]
    }
   ],
   "source": [
    "autoencoder.save(f\"./models/modelCNNAutoEncoder-{600}.model\")"
   ],
   "metadata": {
    "collapsed": false
   }
  },
  {
   "cell_type": "code",
   "execution_count": 102,
   "outputs": [
    {
     "name": "stdout",
     "output_type": "stream",
     "text": [
      " 11/313 [>.............................] - ETA: 1s "
     ]
    },
    {
     "name": "stderr",
     "output_type": "stream",
     "text": [
      "2022-10-24 14:54:02.880901: I tensorflow/core/grappler/optimizers/custom_graph_optimizer_registry.cc:114] Plugin optimizer for device_type GPU is enabled.\n"
     ]
    },
    {
     "name": "stdout",
     "output_type": "stream",
     "text": [
      "313/313 [==============================] - 1s 4ms/step\n"
     ]
    },
    {
     "data": {
      "text/plain": "<Figure size 2000x400 with 20 Axes>",
      "image/png": "[encoded data removed]"
     },
     "metadata": {},
     "output_type": "display_data"
    }
   ],
   "source": [
    "decoded_imgs = autoencoder.predict(x_test)\n",
    "\n",
    "n = 10\n",
    "plt.figure(figsize=(20, 4))\n",
    "for i in range(1, n + 1):\n",
    "    # Display original\n",
    "    ax = plt.subplot(2, n, i)\n",
    "    plt.imshow(x_test[i].reshape(28, 28, 1))\n",
    "    plt.gray()\n",
    "    ax.get_xaxis().set_visible(False)\n",
    "    ax.get_yaxis().set_visible(False)\n",
    "\n",
    "    # Display reconstruction\n",
    "    ax = plt.subplot(2, n, i + n)\n",
    "    plt.imshow(decoded_imgs[i].reshape(28, 28, 1))\n",
    "    plt.gray()\n",
    "    ax.get_xaxis().set_visible(False)\n",
    "    ax.get_yaxis().set_visible(False)\n",
    "plt.show()"
   ],
   "metadata": {
    "collapsed": false
   }
  },
  {
   "cell_type": "code",
   "execution_count": null,
   "outputs": [],
   "source": [],
   "metadata": {
    "collapsed": false
   }
  }
 ],
 "metadata": {
  "kernelspec": {
   "display_name": "Python 3",
   "language": "python",
   "name": "python3"
  },
  "language_info": {
   "codemirror_mode": {
    "name": "ipython",
    "version": 2
   },
   "file_extension": ".py",
   "mimetype": "text/x-python",
   "name": "python",
   "nbconvert_exporter": "python",
   "pygments_lexer": "ipython2",
   "version": "2.7.6"
  }
 },
 "nbformat": 4,
 "nbformat_minor": 0
}
